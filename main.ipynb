data = []
choice = 'random'

def line():
    print('---------------------------')

def show_menu():
    line()
    print('MENU')
    line()
    print('1. Add course')
    print('2. Remove course')
    print('3. My courses')
    print('4. Exit')
    line()
    choice = input('Enter your Value: ')
    return choice

while choice != '4':
    choice = show_menu()
    if choice == '1':
        item = input('Interested Course ')
        data.append(item)
        print('Add ', item, 'Course')
    elif choice == '2':
        item = input('Marked as done: ')
        if item in data:
            data.remove(item)
            print('Removed item', item)
        else:
            print('Could not find Course', item)
    elif choice == '3':
        print('Add Course:')
        for item in data:
            print(item)
    elif choice == '4':
        print('Bye')
    else:
        print('Input one Value 1, 2, 3 or 4')